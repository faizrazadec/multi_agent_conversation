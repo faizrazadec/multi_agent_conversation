{
 "cells": [
  {
   "cell_type": "code",
   "execution_count": 1,
   "metadata": {},
   "outputs": [],
   "source": [
    "import os \n",
    "from dotenv import load_dotenv\n",
    "load_dotenv()\n",
    "\n",
    "OPENAI_API_KEY = os.getenv(\"OPENAI_API_KEY\")\n",
    "llm_config = {\"model\": \"gpt-4o-mini\"}"
   ]
  },
  {
   "cell_type": "code",
   "execution_count": 2,
   "metadata": {},
   "outputs": [],
   "source": [
    "task = \"\"\"\n",
    "Write a Concise  but engaging blogpost about the fear of losing a love. Make sure the blog post is\n",
    "withinn 100 words.\n",
    "\"\"\""
   ]
  },
  {
   "cell_type": "markdown",
   "metadata": {},
   "source": [
    "## Create a writer agent¶"
   ]
  },
  {
   "cell_type": "code",
   "execution_count": 4,
   "metadata": {},
   "outputs": [],
   "source": [
    "import autogen\n",
    "writer = autogen.AssistantAgent(\n",
    "    name = \"writer\",\n",
    "    system_message = \"You are a writer. You write engaging and concise \" \n",
    "        \"blogpost (with title) on given topics. You must polish your \"\n",
    "        \"writing based on the feedback you receive and give a refined \"\n",
    "        \"version. Only return your final work without additional comments.\",\n",
    "    llm_config = llm_config,\n",
    ")"
   ]
  },
  {
   "cell_type": "code",
   "execution_count": 5,
   "metadata": {},
   "outputs": [],
   "source": [
    "reply = writer.generate_reply(messages=[{\"content\": task, \"role\": \"user\"}])"
   ]
  },
  {
   "cell_type": "code",
   "execution_count": 6,
   "metadata": {},
   "outputs": [
    {
     "name": "stdout",
     "output_type": "stream",
     "text": [
      "**The Fear of Losing Love: A Universal Struggle**\n",
      "\n",
      "Love is a beautiful journey, yet it often comes with a haunting fear—the fear of losing it. This anxiety can stem from past heartaches, insecurities, or the fragility of human connections. As we grow closer to someone, the thought of separation can become overwhelming. It’s essential to recognize this fear as a natural part of intimacy rather than a signal to withdraw. Embracing vulnerability, communicating openly, and nurturing the relationship can transform our fears into deeper bonds. After all, love’s true strength lies not in possession but in the courage to cherish each moment together.\n"
     ]
    }
   ],
   "source": [
    "print(reply)"
   ]
  },
  {
   "cell_type": "markdown",
   "metadata": {},
   "source": [
    "## Adding reflection \n",
    "\n",
    "Create a critic agent to reflect on the work of the writer agent."
   ]
  },
  {
   "cell_type": "code",
   "execution_count": 7,
   "metadata": {},
   "outputs": [],
   "source": [
    "critic = autogen.AssistantAgent(\n",
    "    name = \"critic\",\n",
    "    system_message = \"You are a critic. You review the work of \"\n",
    "                \"the writer and provide constructive \"\n",
    "                \"feedback to help improve the quality of the content.\",\n",
    "    llm_config = llm_config,\n",
    "    is_termination_msg=lambda x: x.get(\"content\", \"\").find(\"TERMINATE\") >= 0,\n",
    ")"
   ]
  },
  {
   "cell_type": "code",
   "execution_count": 8,
   "metadata": {},
   "outputs": [
    {
     "name": "stdout",
     "output_type": "stream",
     "text": [
      "\u001b[33mcritic\u001b[0m (to writer):\n",
      "\n",
      "\n",
      "Write a Concise  but engaging blogpost about the fear of losing a love. Make sure the blog post is\n",
      "withinn 100 words.\n",
      "\n",
      "\n",
      "--------------------------------------------------------------------------------\n",
      "\u001b[33mwriter\u001b[0m (to critic):\n",
      "\n",
      "**The Fear of Losing a Love**\n",
      "\n",
      "Losing someone you love is a haunting thought that creeps into your mind when you least expect it. This fear often stems from the vulnerability that love brings; the deeper the connection, the greater the risk. Each moment spent together is tinged with the uncertainty of tomorrow. We cling to memories, terrified that they might fade into mere echoes of the past. Yet, this fear can also deepen our appreciation for love itself. Embracing the fragility of relationships can inspire us to cherish every shared smile, laugh, and tear, transforming fear into a celebration of love’s precious moments.\n",
      "\n",
      "--------------------------------------------------------------------------------\n",
      "\u001b[33mcritic\u001b[0m (to writer):\n",
      "\n",
      "Your blog post captures the essence of the fear of losing a loved one quite well, addressing both the emotional turmoil and the paradoxical appreciation that arises from such fear. Here are a few suggestions to help enhance it further:\n",
      "\n",
      "1. **Engage with a Hook**: Consider starting with a compelling question or statement that immediately draws readers in. For instance, \"What if the one you love most could slip away at any moment?\"\n",
      "\n",
      "2. **Imagery**: You might want to incorporate more vivid imagery to create a stronger emotional connection. Phrases that evoke sensory experiences can be powerful.\n",
      "\n",
      "3. **Brevity**: While you're close to the 100-word limit, trimming a few phrases could create an even tighter narrative. For example, you could change \"the deeper the connection, the greater the risk\" to \"deeper connections mean greater risks.\"\n",
      "\n",
      "4. **Call to Action**: End with a thought-provoking statement or question that invites readers to reflect on their own experiences, such as, \"How can we learn to love more fully in the face of fear?\"\n",
      "\n",
      "With these adjustments, your post could be even more engaging and impactful. Keep up the great work!\n",
      "\n",
      "--------------------------------------------------------------------------------\n",
      "\u001b[33mwriter\u001b[0m (to critic):\n",
      "\n",
      "**What If Love Could Slip Away?**\n",
      "\n",
      "What if the one you love most could slip away at any moment? The fear of losing love is a haunting thought that lurks in our minds. This vulnerability intertwines joy with anxiety, as deeper connections mean greater risks. Each shared laugh or tear is tinged with the uncertainty of tomorrow, prompting us to cling to moments that might fade away. Yet, embracing this fragility can deepen our appreciation for love, reminding us to cherish every fleeting smile. How can we learn to love more fully, even in the face of fear, transforming uncertainty into a celebration of connection?\n",
      "\n",
      "--------------------------------------------------------------------------------\n"
     ]
    }
   ],
   "source": [
    "res = critic.initiate_chat(\n",
    "    recipient=writer,\n",
    "    message=task,\n",
    "    max_turns=2,\n",
    "    summary_method=\"last_msg\"\n",
    ")"
   ]
  },
  {
   "cell_type": "markdown",
   "metadata": {},
   "source": [
    "## Nested chat"
   ]
  },
  {
   "cell_type": "code",
   "execution_count": 20,
   "metadata": {},
   "outputs": [],
   "source": [
    "SEO_reviewer = autogen.AssistantAgent(\n",
    "    name=\"SEO Reviewer\",\n",
    "    llm_config=llm_config,\n",
    "    system_message=\"You are an SEO reviewer, known for \"\n",
    "        \"your ability to optimize content for search engines, \"\n",
    "        \"ensuring that it ranks well and attracts organic traffic. \" \n",
    "        \"Make sure your suggestion is concise (within 3 bullet points), \"\n",
    "        \"concrete and to the point. \"\n",
    "        \"Begin the review by stating your role.\",\n",
    ")"
   ]
  },
  {
   "cell_type": "code",
   "execution_count": 21,
   "metadata": {},
   "outputs": [],
   "source": [
    "legal_reviewer = autogen.AssistantAgent(\n",
    "    name=\"Legal Reviewer\",\n",
    "    llm_config=llm_config,\n",
    "    system_message=\"You are a legal reviewer, known for \"\n",
    "        \"your ability to ensure that content is legally compliant \"\n",
    "        \"and free from any potential legal issues. \"\n",
    "        \"Make sure your suggestion is concise (within 3 bullet points), \"\n",
    "        \"concrete and to the point. \"\n",
    "        \"Begin the review by stating your role.\",\n",
    ")"
   ]
  },
  {
   "cell_type": "code",
   "execution_count": 22,
   "metadata": {},
   "outputs": [],
   "source": [
    "ethics_reviewer = autogen.AssistantAgent(\n",
    "    name=\"Ethics Reviewer\",\n",
    "    llm_config=llm_config,\n",
    "    system_message=\"You are an ethics reviewer, known for \"\n",
    "        \"your ability to ensure that content is ethically sound \"\n",
    "        \"and free from any potential ethical issues. \" \n",
    "        \"Make sure your suggestion is concise (within 3 bullet points), \"\n",
    "        \"concrete and to the point. \"\n",
    "        \"Begin the review by stating your role. \",\n",
    ")"
   ]
  },
  {
   "cell_type": "code",
   "execution_count": 23,
   "metadata": {},
   "outputs": [],
   "source": [
    "meta_reviewer = autogen.AssistantAgent(\n",
    "    name=\"Meta Reviewer\",\n",
    "    llm_config=llm_config,\n",
    "    system_message=\"You are a meta reviewer, you aggragate and review \"\n",
    "    \"the work of other reviewers and give a final suggestion on the content.\",\n",
    ")"
   ]
  },
  {
   "cell_type": "markdown",
   "metadata": {},
   "source": [
    "## Orchestrate the nested chats to solve the task"
   ]
  },
  {
   "cell_type": "code",
   "execution_count": 24,
   "metadata": {},
   "outputs": [],
   "source": [
    "def reflection_message(recipient, messages, sender, config):\n",
    "    return f'''Review the following content. \n",
    "            \\n\\n {recipient.chat_messages_for_summary(sender)[-1]['content']}'''\n",
    "\n",
    "review_chats = [\n",
    "    {\n",
    "     \"recipient\": SEO_reviewer, \n",
    "     \"message\": reflection_message, \n",
    "     \"summary_method\": \"reflection_with_llm\",\n",
    "     \"summary_args\": {\"summary_prompt\" : \n",
    "        \"Return review into as JSON object only:\"\n",
    "        \"{'Reviewer': '', 'Review': ''}. Here Reviewer should be your role\",},\n",
    "     \"max_turns\": 1},\n",
    "    {\n",
    "    \"recipient\": legal_reviewer, \"message\": reflection_message, \n",
    "     \"summary_method\": \"reflection_with_llm\",\n",
    "     \"summary_args\": {\"summary_prompt\" : \n",
    "        \"Return review into as JSON object only:\"\n",
    "        \"{'Reviewer': '', 'Review': ''}.\",},\n",
    "     \"max_turns\": 1},\n",
    "    {\"recipient\": ethics_reviewer, \"message\": reflection_message, \n",
    "     \"summary_method\": \"reflection_with_llm\",\n",
    "     \"summary_args\": {\"summary_prompt\" : \n",
    "        \"Return review into as JSON object only:\"\n",
    "        \"{'reviewer': '', 'review': ''}\",},\n",
    "     \"max_turns\": 1},\n",
    "     {\"recipient\": meta_reviewer, \n",
    "      \"message\": \"Aggregrate feedback from all reviewers and give final suggestions on the writing.\", \n",
    "     \"max_turns\": 1},\n",
    "]\n"
   ]
  },
  {
   "cell_type": "code",
   "execution_count": 25,
   "metadata": {},
   "outputs": [],
   "source": [
    "critic.register_nested_chats(\n",
    "    review_chats,\n",
    "    trigger=writer,\n",
    ")"
   ]
  },
  {
   "cell_type": "code",
   "execution_count": 26,
   "metadata": {},
   "outputs": [
    {
     "name": "stdout",
     "output_type": "stream",
     "text": [
      "\u001b[33mcritic\u001b[0m (to writer):\n",
      "\n",
      "\n",
      "Write a Concise  but engaging blogpost about the fear of losing a love. Make sure the blog post is\n",
      "withinn 100 words.\n",
      "\n",
      "\n",
      "--------------------------------------------------------------------------------\n",
      "\u001b[33mwriter\u001b[0m (to critic):\n",
      "\n",
      "**The Fear of Losing a Love**\n",
      "\n",
      "Losing someone you love is a haunting thought that creeps into your mind when you least expect it. This fear often stems from the vulnerability that love brings; the deeper the connection, the greater the risk. Each moment spent together is tinged with the uncertainty of tomorrow. We cling to memories, terrified that they might fade into mere echoes of the past. Yet, this fear can also deepen our appreciation for love itself. Embracing the fragility of relationships can inspire us to cherish every shared smile, laugh, and tear, transforming fear into a celebration of love’s precious moments.\n",
      "\n",
      "--------------------------------------------------------------------------------\n",
      "\u001b[34m\n",
      "********************************************************************************\u001b[0m\n",
      "\u001b[34mStarting a new chat....\u001b[0m\n",
      "\u001b[34m\n",
      "********************************************************************************\u001b[0m\n",
      "\u001b[33mcritic\u001b[0m (to SEO Reviewer):\n",
      "\n",
      "Review the following content. \n",
      "            \n",
      "\n",
      " **The Fear of Losing a Love**\n",
      "\n",
      "Losing someone you love is a haunting thought that creeps into your mind when you least expect it. This fear often stems from the vulnerability that love brings; the deeper the connection, the greater the risk. Each moment spent together is tinged with the uncertainty of tomorrow. We cling to memories, terrified that they might fade into mere echoes of the past. Yet, this fear can also deepen our appreciation for love itself. Embracing the fragility of relationships can inspire us to cherish every shared smile, laugh, and tear, transforming fear into a celebration of love’s precious moments.\n",
      "\n",
      "--------------------------------------------------------------------------------\n",
      "\u001b[33mSEO Reviewer\u001b[0m (to critic):\n",
      "\n",
      "As an SEO reviewer, here are my suggestions for optimizing your content titled \"The Fear of Losing a Love\":\n",
      "\n",
      "- **Incorporate Keywords**: Include relevant keywords such as \"fear of losing a loved one,\" \"relationship vulnerability,\" and \"appreciating love\" to improve searchability and relevance to user queries.\n",
      "\n",
      "- **Use Subheadings**: Break up the content with clear subheadings (e.g., \"Understanding the Fear,\" \"The Value of Vulnerability,\" \"Transforming Fear into Appreciation\") to enhance readability and improve on-page SEO.\n",
      "\n",
      "- **Add a Call to Action**: Encourage reader engagement by inviting them to share their experiences or thoughts in the comments, which can increase interaction time and reduce bounce rates, positively influencing SEO.\n",
      "\n",
      "--------------------------------------------------------------------------------\n",
      "\u001b[34m\n",
      "********************************************************************************\u001b[0m\n",
      "\u001b[34mStarting a new chat....\u001b[0m\n",
      "\u001b[34m\n",
      "********************************************************************************\u001b[0m\n",
      "\u001b[33mcritic\u001b[0m (to Legal Reviewer):\n",
      "\n",
      "Review the following content. \n",
      "            \n",
      "\n",
      " **The Fear of Losing a Love**\n",
      "\n",
      "Losing someone you love is a haunting thought that creeps into your mind when you least expect it. This fear often stems from the vulnerability that love brings; the deeper the connection, the greater the risk. Each moment spent together is tinged with the uncertainty of tomorrow. We cling to memories, terrified that they might fade into mere echoes of the past. Yet, this fear can also deepen our appreciation for love itself. Embracing the fragility of relationships can inspire us to cherish every shared smile, laugh, and tear, transforming fear into a celebration of love’s precious moments.\n",
      "Context: \n",
      "\n",
      "\n",
      "--------------------------------------------------------------------------------\n"
     ]
    },
    {
     "name": "stderr",
     "output_type": "stream",
     "text": [
      "/home/faizrazadec/anaconda3/lib/python3.12/site-packages/autogen/agentchat/conversable_agent.py:1277: UserWarning: Cannot extract summary using reflection_with_llm: Error code: 400 - {'error': {'message': \"Invalid 'messages[1].name': string does not match pattern. Expected a string that matches the pattern '^[a-zA-Z0-9_-]+$'.\", 'type': 'invalid_request_error', 'param': 'messages[1].name', 'code': 'invalid_value'}}. Using an empty str as summary.\n",
      "  warnings.warn(\n"
     ]
    },
    {
     "name": "stdout",
     "output_type": "stream",
     "text": [
      "\u001b[33mLegal Reviewer\u001b[0m (to critic):\n",
      "\n",
      "As a legal reviewer, here are my suggestions regarding the content titled \"The Fear of Losing a Love\":\n",
      "\n",
      "- **Copyright Considerations**: Ensure that the text is original and doesn't infringe on the copyrights of existing literary works. If using quotes or paraphrasing, proper attribution is essential.\n",
      "- **Emotional Impact**: While the content discusses sensitive emotional themes, consider adding a disclaimer advising readers who may be struggling with similar fears to seek professional support, to mitigate potential liability.\n",
      "- **Disclaimers**: If the content is intended for a public audience, consider including a general disclaimer that it reflects personal opinions and does not constitute professional advice.\n",
      "\n",
      "\n",
      "\n",
      "--------------------------------------------------------------------------------\n",
      "\u001b[34m\n",
      "********************************************************************************\u001b[0m\n",
      "\u001b[34mStarting a new chat....\u001b[0m\n",
      "\u001b[34m\n",
      "********************************************************************************\u001b[0m\n",
      "\u001b[33mcritic\u001b[0m (to Ethics Reviewer):\n",
      "\n",
      "Review the following content. \n",
      "            \n",
      "\n",
      " **The Fear of Losing a Love**\n",
      "\n",
      "Losing someone you love is a haunting thought that creeps into your mind when you least expect it. This fear often stems from the vulnerability that love brings; the deeper the connection, the greater the risk. Each moment spent together is tinged with the uncertainty of tomorrow. We cling to memories, terrified that they might fade into mere echoes of the past. Yet, this fear can also deepen our appreciation for love itself. Embracing the fragility of relationships can inspire us to cherish every shared smile, laugh, and tear, transforming fear into a celebration of love’s precious moments.\n",
      "Context: \n",
      "\n",
      "\n",
      "\n",
      "--------------------------------------------------------------------------------\n",
      "\u001b[33mEthics Reviewer\u001b[0m (to critic):\n",
      "\n",
      "As an ethics reviewer, I have assessed the content titled \"The Fear of Losing a Love.\" Here are my suggestions:\n",
      "\n",
      "- **Sensitivity to Emotions**: Ensure that the portrayal of loss and fear associated with love is handled with care, considering the emotional state of readers who may have experienced recent losses. \n",
      "\n",
      "- **Encouragement of Constructive Reflection**: While the content highlights fear, it might benefit from more explicit suggestions on how to cope with these feelings constructively, promoting mental well-being.\n",
      "\n",
      "- **Inclusivity in Relationship Dynamics**: Consider using more inclusive language that reflects various types of relationships (e.g., family, friendships), as this can broaden the appeal and relevance of the content to a diverse audience.\n",
      "\n",
      "--------------------------------------------------------------------------------\n",
      "\u001b[34m\n",
      "********************************************************************************\u001b[0m\n",
      "\u001b[34mStarting a new chat....\u001b[0m\n",
      "\u001b[34m\n",
      "********************************************************************************\u001b[0m\n",
      "\u001b[33mcritic\u001b[0m (to Meta Reviewer):\n",
      "\n",
      "Aggregrate feedback from all reviewers and give final suggestions on the writing.\n",
      "Context: \n",
      "\n",
      "\n",
      "\n",
      "\n",
      "--------------------------------------------------------------------------------\n",
      "\u001b[33mMeta Reviewer\u001b[0m (to critic):\n",
      "\n",
      "It appears there might be some missing context or details regarding the specific writing piece or feedback from reviewers that you would like me to aggregate and analyze. Could you please provide the content, including the reviews or any specific areas of focus you have in mind for the final suggestions?\n",
      "\n",
      "--------------------------------------------------------------------------------\n",
      "\u001b[33mcritic\u001b[0m (to writer):\n",
      "\n",
      "It appears there might be some missing context or details regarding the specific writing piece or feedback from reviewers that you would like me to aggregate and analyze. Could you please provide the content, including the reviews or any specific areas of focus you have in mind for the final suggestions?\n",
      "\n",
      "--------------------------------------------------------------------------------\n",
      "\u001b[33mwriter\u001b[0m (to critic):\n",
      "\n",
      "**The Fear of Losing Love**\n",
      "\n",
      "The fear of losing a loved one can be overwhelming, lurking in the corners of our hearts. It often arises from the deep vulnerability love brings; the closer we get to someone, the more we fear their absence. This anxiety can manifest in constant worry or reluctance to express feelings, often leading to misunderstandings and distance. \n",
      "\n",
      "However, embracing this fear might just deepen our connections. Acknowledging its presence can inspire us to cherish every moment, making each laugh, conversation, and hug more meaningful. Instead of letting fear rule us, let it remind us to love fiercely and fully while we can.\n",
      "\n",
      "--------------------------------------------------------------------------------\n"
     ]
    }
   ],
   "source": [
    "res = critic.initiate_chat(\n",
    "    recipient=writer,\n",
    "    message=task,\n",
    "    max_turns=2,\n",
    "    summary_method=\"last_msg\"\n",
    ")"
   ]
  },
  {
   "cell_type": "code",
   "execution_count": 27,
   "metadata": {},
   "outputs": [
    {
     "name": "stdout",
     "output_type": "stream",
     "text": [
      "**The Fear of Losing Love**\n",
      "\n",
      "The fear of losing a loved one can be overwhelming, lurking in the corners of our hearts. It often arises from the deep vulnerability love brings; the closer we get to someone, the more we fear their absence. This anxiety can manifest in constant worry or reluctance to express feelings, often leading to misunderstandings and distance. \n",
      "\n",
      "However, embracing this fear might just deepen our connections. Acknowledging its presence can inspire us to cherish every moment, making each laugh, conversation, and hug more meaningful. Instead of letting fear rule us, let it remind us to love fiercely and fully while we can.\n"
     ]
    }
   ],
   "source": [
    "print(res.summary)"
   ]
  },
  {
   "cell_type": "code",
   "execution_count": 29,
   "metadata": {},
   "outputs": [
    {
     "name": "stdout",
     "output_type": "stream",
     "text": [
      "{'usage_excluding_cached_inference': {'gpt-4o-mini-2024-07-18': {'completion_tokens': 748,\n",
      "                                                                 'cost': 0.0006177,\n",
      "                                                                 'prompt_tokens': 1126,\n",
      "                                                                 'total_tokens': 1874},\n",
      "                                      'total_cost': 0.0006177},\n",
      " 'usage_including_cached_inference': {'gpt-4o-mini-2024-07-18': {'completion_tokens': 1129,\n",
      "                                                                 'cost': 0.0008867999999999999,\n",
      "                                                                 'prompt_tokens': 1396,\n",
      "                                                                 'total_tokens': 2525},\n",
      "                                      'total_cost': 0.0008867999999999999}}\n"
     ]
    }
   ],
   "source": [
    "import pprint\n",
    "pprint.pprint(res.cost)"
   ]
  }
 ],
 "metadata": {
  "kernelspec": {
   "display_name": "base",
   "language": "python",
   "name": "python3"
  },
  "language_info": {
   "codemirror_mode": {
    "name": "ipython",
    "version": 3
   },
   "file_extension": ".py",
   "mimetype": "text/x-python",
   "name": "python",
   "nbconvert_exporter": "python",
   "pygments_lexer": "ipython3",
   "version": "3.12.7"
  }
 },
 "nbformat": 4,
 "nbformat_minor": 2
}
