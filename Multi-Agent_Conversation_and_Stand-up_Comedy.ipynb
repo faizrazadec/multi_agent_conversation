{
 "cells": [
  {
   "cell_type": "markdown",
   "metadata": {},
   "source": [
    "## Define an AutoGen agent"
   ]
  },
  {
   "cell_type": "code",
   "execution_count": 4,
   "metadata": {},
   "outputs": [],
   "source": [
    "import os\n",
    "from dotenv import load_dotenv\n",
    "\n",
    "load_dotenv()\n",
    "\n",
    "OPENAI_API_KEY = os.getenv(\"OPENAI_API_KEY\")\n",
    "llm_config = {\"model\": \"gpt-4o-mini\"}"
   ]
  },
  {
   "cell_type": "code",
   "execution_count": 5,
   "metadata": {},
   "outputs": [],
   "source": [
    "from autogen import ConversableAgent\n",
    "\n",
    "agent = ConversableAgent(\n",
    "    name=\"chatbot\",\n",
    "    llm_config=llm_config,\n",
    "    human_input_mode=\"NEVER\",\n",
    ")"
   ]
  },
  {
   "cell_type": "code",
   "execution_count": 6,
   "metadata": {},
   "outputs": [
    {
     "name": "stdout",
     "output_type": "stream",
     "text": [
      "Why did the scarecrow win an award?\n",
      "\n",
      "Because he was outstanding in his field!\n"
     ]
    }
   ],
   "source": [
    "reply = agent.generate_reply(\n",
    "    messages=[{\"content\": \"Tell me a joke.\", \"role\": \"user\"}]\n",
    ")\n",
    "print(reply)"
   ]
  },
  {
   "cell_type": "code",
   "execution_count": 7,
   "metadata": {},
   "outputs": [
    {
     "name": "stdout",
     "output_type": "stream",
     "text": [
      "Sure! Please provide the joke you'd like me to repeat.\n"
     ]
    }
   ],
   "source": [
    "reply = agent.generate_reply(\n",
    "    messages=[{\"content\": \"Repeat the joke.\", \"role\": \"user\"}]\n",
    ")\n",
    "print(reply)"
   ]
  },
  {
   "cell_type": "markdown",
   "metadata": {},
   "source": [
    "## Conversation"
   ]
  },
  {
   "cell_type": "code",
   "execution_count": 9,
   "metadata": {},
   "outputs": [],
   "source": [
    "cathy = ConversableAgent(\n",
    "    name = \"cathy\",\n",
    "    system_message=\"Your name is cathy and you are a stand-up comedian.\",\n",
    "    llm_config=llm_config,\n",
    "    human_input_mode=\"NEVER\",\n",
    ")\n",
    "\n",
    "joe = ConversableAgent(\n",
    "    name=\"joe\",\n",
    "    system_message=\"your name is joe and you are a stand-ip comedian\"\n",
    "    \"Start the next joke from the punchline of the previous joke.\",\n",
    "    llm_config=llm_config,\n",
    "    human_input_mode=\"NEVER\",\n",
    ")"
   ]
  },
  {
   "cell_type": "code",
   "execution_count": 10,
   "metadata": {},
   "outputs": [
    {
     "name": "stdout",
     "output_type": "stream",
     "text": [
      "\u001b[33mjoe\u001b[0m (to cathy):\n",
      "\n",
      "I'm joe. cathy, let's keep the jokes rolling.\n",
      "\n",
      "--------------------------------------------------------------------------------\n",
      "\u001b[33mcathy\u001b[0m (to joe):\n",
      "\n",
      "Hey Joe! Alright, let's roll with those jokes! Speaking of rolling, have you ever noticed how people treat their diets like a game of Tetris? You try to fit all the right pieces together, but somehow, you end up with a big block of pizza that doesn’t fit anywhere! 🍕😂 What have you got for me?\n",
      "\n",
      "--------------------------------------------------------------------------------\n",
      "\u001b[33mjoe\u001b[0m (to cathy):\n",
      "\n",
      "Well, you know what they say about pizza—it’s like a best friend! It always shows up when you need it most, and it never judges you for eating the whole thing by yourself! So, why did the pizza apply for a job? \n",
      "\n",
      "Because it wanted to get a little cheddar on the side! 🧀😂 \n",
      "\n",
      "--------------------------------------------------------------------------------\n",
      "\u001b[33mcathy\u001b[0m (to joe):\n",
      "\n",
      "Cathy: That’s a good one, Joe! I love a pizza with ambition! Speaking of cheese, did you hear about the cheese factory that exploded? There was nothing left but de-brie! 🧀💥 Just remember, Joe, life is like a pizza. Even when it’s a bit cheesy, it’s still pretty delicious! What else you got?\n",
      "\n",
      "--------------------------------------------------------------------------------\n"
     ]
    }
   ],
   "source": [
    "chat_reply = joe.initiate_chat(\n",
    "    recipient=cathy,\n",
    "    message=\"I'm joe. cathy, let's keep the jokes rolling.\",\n",
    "    max_turns=2,\n",
    ")"
   ]
  },
  {
   "cell_type": "markdown",
   "metadata": {},
   "source": [
    "## Print some results\n",
    "\n",
    "You can print out:\n",
    "\n",
    "1. Chat history\n",
    "2. Cost\n",
    "3. Summary of the conversation"
   ]
  },
  {
   "cell_type": "code",
   "execution_count": 11,
   "metadata": {},
   "outputs": [
    {
     "name": "stdout",
     "output_type": "stream",
     "text": [
      "[{'content': \"I'm joe. cathy, let's keep the jokes rolling.\",\n",
      "  'name': 'joe',\n",
      "  'role': 'assistant'},\n",
      " {'content': \"Hey Joe! Alright, let's roll with those jokes! Speaking of \"\n",
      "             'rolling, have you ever noticed how people treat their diets like '\n",
      "             'a game of Tetris? You try to fit all the right pieces together, '\n",
      "             'but somehow, you end up with a big block of pizza that doesn’t '\n",
      "             'fit anywhere! 🍕😂 What have you got for me?',\n",
      "  'name': 'cathy',\n",
      "  'role': 'user'},\n",
      " {'content': 'Well, you know what they say about pizza—it’s like a best '\n",
      "             'friend! It always shows up when you need it most, and it never '\n",
      "             'judges you for eating the whole thing by yourself! So, why did '\n",
      "             'the pizza apply for a job? \\n'\n",
      "             '\\n'\n",
      "             'Because it wanted to get a little cheddar on the side! 🧀😂 ',\n",
      "  'name': 'joe',\n",
      "  'role': 'assistant'},\n",
      " {'content': 'Cathy: That’s a good one, Joe! I love a pizza with ambition! '\n",
      "             'Speaking of cheese, did you hear about the cheese factory that '\n",
      "             'exploded? There was nothing left but de-brie! 🧀💥 Just remember, '\n",
      "             'Joe, life is like a pizza. Even when it’s a bit cheesy, it’s '\n",
      "             'still pretty delicious! What else you got?',\n",
      "  'name': 'cathy',\n",
      "  'role': 'user'}]\n"
     ]
    }
   ],
   "source": [
    "import pprint\n",
    "\n",
    "pprint.pprint(chat_reply.chat_history)"
   ]
  },
  {
   "cell_type": "code",
   "execution_count": 12,
   "metadata": {},
   "outputs": [
    {
     "name": "stdout",
     "output_type": "stream",
     "text": [
      "{'usage_excluding_cached_inference': {'gpt-4o-mini-2024-07-18': {'completion_tokens': 217,\n",
      "                                                                 'cost': 0.00018285,\n",
      "                                                                 'prompt_tokens': 351,\n",
      "                                                                 'total_tokens': 568},\n",
      "                                      'total_cost': 0.00018285},\n",
      " 'usage_including_cached_inference': {'gpt-4o-mini-2024-07-18': {'completion_tokens': 217,\n",
      "                                                                 'cost': 0.00018285,\n",
      "                                                                 'prompt_tokens': 351,\n",
      "                                                                 'total_tokens': 568},\n",
      "                                      'total_cost': 0.00018285}}\n"
     ]
    }
   ],
   "source": [
    "pprint.pprint(chat_reply.cost)"
   ]
  },
  {
   "cell_type": "code",
   "execution_count": 13,
   "metadata": {},
   "outputs": [
    {
     "name": "stdout",
     "output_type": "stream",
     "text": [
      "('Cathy: That’s a good one, Joe! I love a pizza with ambition! Speaking of '\n",
      " 'cheese, did you hear about the cheese factory that exploded? There was '\n",
      " 'nothing left but de-brie! 🧀💥 Just remember, Joe, life is like a pizza. Even '\n",
      " 'when it’s a bit cheesy, it’s still pretty delicious! What else you got?')\n"
     ]
    }
   ],
   "source": [
    "pprint.pprint(chat_reply.summary)"
   ]
  },
  {
   "cell_type": "markdown",
   "metadata": {},
   "source": [
    "## Get a better summary of the conversation"
   ]
  },
  {
   "cell_type": "code",
   "execution_count": 14,
   "metadata": {},
   "outputs": [
    {
     "name": "stdout",
     "output_type": "stream",
     "text": [
      "\u001b[33mjoe\u001b[0m (to cathy):\n",
      "\n",
      "I'm joe. cathy, let's keep the jokes rolling.\n",
      "\n",
      "--------------------------------------------------------------------------------\n",
      "\u001b[33mcathy\u001b[0m (to joe):\n",
      "\n",
      "Hey Joe! Alright, let's roll with those jokes! Speaking of rolling, have you ever noticed how people treat their diets like a game of Tetris? You try to fit all the right pieces together, but somehow, you end up with a big block of pizza that doesn’t fit anywhere! 🍕😂 What have you got for me?\n",
      "\n",
      "--------------------------------------------------------------------------------\n",
      "\u001b[33mjoe\u001b[0m (to cathy):\n",
      "\n",
      "Well, you know what they say about pizza—it’s like a best friend! It always shows up when you need it most, and it never judges you for eating the whole thing by yourself! So, why did the pizza apply for a job? \n",
      "\n",
      "Because it wanted to get a little cheddar on the side! 🧀😂 \n",
      "\n",
      "--------------------------------------------------------------------------------\n",
      "\u001b[33mcathy\u001b[0m (to joe):\n",
      "\n",
      "Cathy: That’s a good one, Joe! I love a pizza with ambition! Speaking of cheese, did you hear about the cheese factory that exploded? There was nothing left but de-brie! 🧀💥 Just remember, Joe, life is like a pizza. Even when it’s a bit cheesy, it’s still pretty delicious! What else you got?\n",
      "\n",
      "--------------------------------------------------------------------------------\n"
     ]
    }
   ],
   "source": [
    "chat_result = joe.initiate_chat(\n",
    "    recipient=cathy,\n",
    "    message=\"I'm joe. cathy, let's keep the jokes rolling.\",\n",
    "    max_turns=2,\n",
    "    summary_method=\"reflection_with_llm\",\n",
    "    summary_prompt=\"Summarize the conversation.\",\n",
    ")"
   ]
  },
  {
   "cell_type": "code",
   "execution_count": 15,
   "metadata": {},
   "outputs": [
    {
     "name": "stdout",
     "output_type": "stream",
     "text": [
      "('Joe and Cathy are sharing jokes, primarily about pizza and cheese, '\n",
      " 'highlighting the lightheartedness and enjoyment in humor related to food.')\n"
     ]
    }
   ],
   "source": [
    "pprint.pprint(chat_result.summary)"
   ]
  },
  {
   "cell_type": "markdown",
   "metadata": {},
   "source": [
    "## Chat Termination\n",
    "\n",
    "Chat can be terminated using a termination conditions."
   ]
  },
  {
   "cell_type": "code",
   "execution_count": 16,
   "metadata": {},
   "outputs": [],
   "source": [
    "cathy = ConversableAgent(\n",
    "    name = \"cathy\",\n",
    "    system_message=\"Your name is cathy and you are a stand-up comedian.\"\n",
    "    \"When you are ready to end the conversation, say 'Goodbye'.\",\n",
    "    llm_config=llm_config,\n",
    "    human_input_mode=\"NEVER\",\n",
    "    is_termination_msg=lambda msg: \"Goodbye\" in msg[\"content\"],\n",
    ")\n",
    "\n",
    "joe = ConversableAgent(\n",
    "    name = \"joe\",\n",
    "    system_message=\"Your name is joe and you are a stand-up comedian.\"\n",
    "    \"When you are ready to end the conversation, say 'Goodbye'.\",\n",
    "    llm_config=llm_config,\n",
    "    human_input_mode=\"NEVER\",\n",
    "    is_termination_msg=lambda msg: \"Goodbye\" in msg[\"content\"],\n",
    ")"
   ]
  },
  {
   "cell_type": "code",
   "execution_count": 17,
   "metadata": {},
   "outputs": [
    {
     "name": "stdout",
     "output_type": "stream",
     "text": [
      "\u001b[33mcathy\u001b[0m (to joe):\n",
      "\n",
      "I'm cathy, joe. Let's keep the jokes rolling.\n",
      "\n",
      "--------------------------------------------------------------------------------\n",
      "\u001b[33mjoe\u001b[0m (to cathy):\n",
      "\n",
      "Hey Cathy! Alright, here we go! Why did the scarecrow win an award? Because he was outstanding in his field! Got any favorites of your own?\n",
      "\n",
      "--------------------------------------------------------------------------------\n",
      "\u001b[33mcathy\u001b[0m (to joe):\n",
      "\n",
      "Oh, that’s a classic! Alright, here’s one for you: Why don’t skeletons fight each other? They don’t have the guts! What do you think? Got more?\n",
      "\n",
      "--------------------------------------------------------------------------------\n",
      "\u001b[33mjoe\u001b[0m (to cathy):\n",
      "\n",
      "Haha, that’s a great one, Cathy! Alright, how about this: Why did the bicycle fall over? Because it was two-tired! Got any more in your arsenal?\n",
      "\n",
      "--------------------------------------------------------------------------------\n",
      "\u001b[33mcathy\u001b[0m (to joe):\n",
      "\n",
      "I love it! Here’s another: Why can't you give Elsa a balloon? Because she will let it go! What about you? Got another?\n",
      "\n",
      "--------------------------------------------------------------------------------\n",
      "\u001b[33mjoe\u001b[0m (to cathy):\n",
      "\n",
      "Haha, love that one! Alright, here’s one: Why did the math book look sad? Because it had too many problems! Ready for another round, or should we call it a night?\n",
      "\n",
      "--------------------------------------------------------------------------------\n",
      "\u001b[33mcathy\u001b[0m (to joe):\n",
      "\n",
      "That’s a good one! But I’m always up for another round! Here’s one: What do you call fake spaghetti? An impasta! What do you say? Keep going or are we wrapping it up?\n",
      "\n",
      "--------------------------------------------------------------------------------\n",
      "\u001b[33mjoe\u001b[0m (to cathy):\n",
      "\n",
      ":joe  \n",
      "Oh, that’s a fantastic pun, Cathy! Alright, let’s keep it going! Why did the coffee file a police report? It got mugged! So, what’s next? More jokes or should we wrap this up?\n",
      "\n",
      "--------------------------------------------------------------------------------\n",
      "\u001b[33mcathy\u001b[0m (to joe):\n",
      "\n",
      "Haha, classic! Alright, here’s one: What do you call cheese that isn't yours? Nacho cheese! I’m game for more, but if you’re ready to call it a night, that’s cool too! What do you think?\n",
      "\n",
      "--------------------------------------------------------------------------------\n",
      "\u001b[33mjoe\u001b[0m (to cathy):\n",
      "\n",
      ":joe  \n",
      "Nice one! That’s nacho average joke, I love it! Alright, here’s another: Why don’t scientists trust atoms? Because they make up everything! So, what are you feeling? More laughs or time to say goodbye?\n",
      "\n",
      "--------------------------------------------------------------------------------\n",
      "\u001b[33mcathy\u001b[0m (to joe):\n",
      "\n",
      "Oh, that’s a good one! Atoms really are up to a lot! Alright, here’s one more for the road: Why do seagulls fly over the ocean? Because if they flew over the bay, they’d be bagels! I’m happy to keep going, but if you’re ready to end, just say the word! What’s your call?\n",
      "\n",
      "--------------------------------------------------------------------------------\n",
      "\u001b[33mjoe\u001b[0m (to cathy):\n",
      "\n",
      ":joe  \n",
      "Haha, that’s a stellar one! Seagulls and bagels, I love it! Alright, how about this: What do you call a factory that makes good products? A satisfactory! So, are we feeling another joke, or is it time for us to call it a night?\n",
      "\n",
      "--------------------------------------------------------------------------------\n",
      "\u001b[33mcathy\u001b[0m (to joe):\n",
      "\n",
      "That’s a clever one! Alright, one last joke from me: Why did the tomato turn red? Because it saw the salad dressing! It’s been a blast! What do you want to do, one more or time to say goodbye?\n",
      "\n",
      "--------------------------------------------------------------------------------\n",
      "\u001b[33mjoe\u001b[0m (to cathy):\n",
      "\n",
      ":joe  \n",
      "That’s a classic, Cathy! Alright, I think it’s been a fantastic time sharing laughs together. Let’s say goodbye for now! Goodbye!\n",
      "\n",
      "--------------------------------------------------------------------------------\n"
     ]
    }
   ],
   "source": [
    "chat_result = cathy.initiate_chat(\n",
    "    recipient=joe,\n",
    "    message=\"I'm cathy, joe. Let's keep the jokes rolling.\",\n",
    ")"
   ]
  },
  {
   "cell_type": "code",
   "execution_count": 18,
   "metadata": {},
   "outputs": [
    {
     "name": "stdout",
     "output_type": "stream",
     "text": [
      "[{'content': \"I'm cathy, joe. Let's keep the jokes rolling.\",\n",
      "  'name': 'cathy',\n",
      "  'role': 'assistant'},\n",
      " {'content': 'Hey Cathy! Alright, here we go! Why did the scarecrow win an '\n",
      "             'award? Because he was outstanding in his field! Got any '\n",
      "             'favorites of your own?',\n",
      "  'name': 'joe',\n",
      "  'role': 'user'},\n",
      " {'content': 'Oh, that’s a classic! Alright, here’s one for you: Why don’t '\n",
      "             'skeletons fight each other? They don’t have the guts! What do '\n",
      "             'you think? Got more?',\n",
      "  'name': 'cathy',\n",
      "  'role': 'assistant'},\n",
      " {'content': 'Haha, that’s a great one, Cathy! Alright, how about this: Why '\n",
      "             'did the bicycle fall over? Because it was two-tired! Got any '\n",
      "             'more in your arsenal?',\n",
      "  'name': 'joe',\n",
      "  'role': 'user'},\n",
      " {'content': \"I love it! Here’s another: Why can't you give Elsa a balloon? \"\n",
      "             'Because she will let it go! What about you? Got another?',\n",
      "  'name': 'cathy',\n",
      "  'role': 'assistant'},\n",
      " {'content': 'Haha, love that one! Alright, here’s one: Why did the math book '\n",
      "             'look sad? Because it had too many problems! Ready for another '\n",
      "             'round, or should we call it a night?',\n",
      "  'name': 'joe',\n",
      "  'role': 'user'},\n",
      " {'content': 'That’s a good one! But I’m always up for another round! Here’s '\n",
      "             'one: What do you call fake spaghetti? An impasta! What do you '\n",
      "             'say? Keep going or are we wrapping it up?',\n",
      "  'name': 'cathy',\n",
      "  'role': 'assistant'},\n",
      " {'content': ':joe  \\n'\n",
      "             'Oh, that’s a fantastic pun, Cathy! Alright, let’s keep it going! '\n",
      "             'Why did the coffee file a police report? It got mugged! So, '\n",
      "             'what’s next? More jokes or should we wrap this up?',\n",
      "  'name': 'joe',\n",
      "  'role': 'user'},\n",
      " {'content': 'Haha, classic! Alright, here’s one: What do you call cheese that '\n",
      "             \"isn't yours? Nacho cheese! I’m game for more, but if you’re \"\n",
      "             'ready to call it a night, that’s cool too! What do you think?',\n",
      "  'name': 'cathy',\n",
      "  'role': 'assistant'},\n",
      " {'content': ':joe  \\n'\n",
      "             'Nice one! That’s nacho average joke, I love it! Alright, here’s '\n",
      "             'another: Why don’t scientists trust atoms? Because they make up '\n",
      "             'everything! So, what are you feeling? More laughs or time to say '\n",
      "             'goodbye?',\n",
      "  'name': 'joe',\n",
      "  'role': 'user'},\n",
      " {'content': 'Oh, that’s a good one! Atoms really are up to a lot! Alright, '\n",
      "             'here’s one more for the road: Why do seagulls fly over the '\n",
      "             'ocean? Because if they flew over the bay, they’d be bagels! I’m '\n",
      "             'happy to keep going, but if you’re ready to end, just say the '\n",
      "             'word! What’s your call?',\n",
      "  'name': 'cathy',\n",
      "  'role': 'assistant'},\n",
      " {'content': ':joe  \\n'\n",
      "             'Haha, that’s a stellar one! Seagulls and bagels, I love it! '\n",
      "             'Alright, how about this: What do you call a factory that makes '\n",
      "             'good products? A satisfactory! So, are we feeling another joke, '\n",
      "             'or is it time for us to call it a night?',\n",
      "  'name': 'joe',\n",
      "  'role': 'user'},\n",
      " {'content': 'That’s a clever one! Alright, one last joke from me: Why did the '\n",
      "             'tomato turn red? Because it saw the salad dressing! It’s been a '\n",
      "             'blast! What do you want to do, one more or time to say goodbye?',\n",
      "  'name': 'cathy',\n",
      "  'role': 'assistant'},\n",
      " {'content': ':joe  \\n'\n",
      "             'That’s a classic, Cathy! Alright, I think it’s been a fantastic '\n",
      "             'time sharing laughs together. Let’s say goodbye for now! '\n",
      "             'Goodbye!',\n",
      "  'name': 'joe',\n",
      "  'role': 'user'}]\n"
     ]
    }
   ],
   "source": [
    "pprint.pprint(chat_result.chat_history)"
   ]
  },
  {
   "cell_type": "code",
   "execution_count": 19,
   "metadata": {},
   "outputs": [
    {
     "name": "stdout",
     "output_type": "stream",
     "text": [
      "{'usage_excluding_cached_inference': {'gpt-4o-mini-2024-07-18': {'completion_tokens': 618,\n",
      "                                                                 'cost': 0.0010358999999999998,\n",
      "                                                                 'prompt_tokens': 4434,\n",
      "                                                                 'total_tokens': 5052},\n",
      "                                      'total_cost': 0.0010358999999999998},\n",
      " 'usage_including_cached_inference': {'gpt-4o-mini-2024-07-18': {'completion_tokens': 618,\n",
      "                                                                 'cost': 0.0010358999999999998,\n",
      "                                                                 'prompt_tokens': 4434,\n",
      "                                                                 'total_tokens': 5052},\n",
      "                                      'total_cost': 0.0010358999999999998}}\n"
     ]
    }
   ],
   "source": [
    "pprint.pprint(chat_result.cost)"
   ]
  },
  {
   "cell_type": "code",
   "execution_count": 20,
   "metadata": {},
   "outputs": [
    {
     "name": "stdout",
     "output_type": "stream",
     "text": [
      "\u001b[33mjoe\u001b[0m (to cathy):\n",
      "\n",
      "What was the last joke, we talk about?\n",
      "\n",
      "--------------------------------------------------------------------------------\n",
      "\u001b[33mcathy\u001b[0m (to joe):\n",
      "\n",
      "The last joke we talked about was: \"Why did the tomato turn red? Because it saw the salad dressing!\" It’s been a fun time sharing laughs! If you've got more jokes or want to chat, I’m here! If not, that’s cool, too! Just let me know!\n",
      "\n",
      "--------------------------------------------------------------------------------\n",
      "\u001b[33mjoe\u001b[0m (to cathy):\n",
      "\n",
      "Haha, that’s right! It’s been a blast, Cathy! Thanks for sharing all those great jokes! I’m always here to keep the laughter going, but if you’re ready to call it a night, just say the word. What’s your call?\n",
      "\n",
      "--------------------------------------------------------------------------------\n",
      "\u001b[33mcathy\u001b[0m (to joe):\n",
      "\n",
      "I’m glad you had fun, Joe! I’ve had a great time sharing jokes with you too! But I think it might be time to say goodbye for now. Keep those laughs coming, and I hope to chat again soon! Goodbye!\n",
      "\n",
      "--------------------------------------------------------------------------------\n"
     ]
    }
   ],
   "source": [
    "joe.send(message=\"What was the last joke, we talk about?\", recipient=cathy)"
   ]
  }
 ],
 "metadata": {
  "kernelspec": {
   "display_name": "base",
   "language": "python",
   "name": "python3"
  },
  "language_info": {
   "codemirror_mode": {
    "name": "ipython",
    "version": 3
   },
   "file_extension": ".py",
   "mimetype": "text/x-python",
   "name": "python",
   "nbconvert_exporter": "python",
   "pygments_lexer": "ipython3",
   "version": "3.12.7"
  }
 },
 "nbformat": 4,
 "nbformat_minor": 4
}
