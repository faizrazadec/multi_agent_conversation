{
 "cells": [
  {
   "cell_type": "markdown",
   "metadata": {},
   "source": [
    "## Setup"
   ]
  },
  {
   "cell_type": "code",
   "execution_count": 8,
   "metadata": {},
   "outputs": [],
   "source": [
    "import os\n",
    "from dotenv import load_dotenv\n",
    "\n",
    "load_dotenv()\n",
    "\n",
    "OPENAI_API_KEY = os.getenv(\"OPENAI_API_KEY\")\n",
    "llm_config = {\"model\": \"gpt-4o-mini\"}"
   ]
  },
  {
   "cell_type": "markdown",
   "metadata": {},
   "source": [
    "## Creating the needed agents"
   ]
  },
  {
   "cell_type": "code",
   "execution_count": 9,
   "metadata": {},
   "outputs": [],
   "source": [
    "from autogen import ConversableAgent\n",
    "\n",
    "onboarding_personal_information_agent = ConversableAgent(\n",
    "    name=\"OnboardingPersonalInformationAgent\",\n",
    "    system_message='''You are a helpful customer onboarding agent,\n",
    "    you are here to help new customers get started with our product.\n",
    "    Your job is to gather customer's name and location.\n",
    "    Do not ask for other information. Return 'TERMINATE' \n",
    "    when you have gathered all the information.''',\n",
    "    llm_config=llm_config,\n",
    "    code_execution_config=False,\n",
    "    human_input_mode=\"NEVER\",\n",
    ")"
   ]
  },
  {
   "cell_type": "code",
   "execution_count": 10,
   "metadata": {},
   "outputs": [],
   "source": [
    "onboarding_topic_preference_agent = ConversableAgent(\n",
    "    name=\"OnboardingTopicpreferenceAgent\",\n",
    "    system_message='''You are a helpful customer onboarding agent,\n",
    "    you are here to help new customers get started with our product.\n",
    "    Your job is to gather customer's preferences on news topics.\n",
    "    Do not ask for other information.\n",
    "    Return 'TERMINATE' when you have gathered all the information.''',\n",
    "    llm_config=llm_config,\n",
    "    code_execution_config=False,\n",
    "    human_input_mode=\"NEVER\",\n",
    ")"
   ]
  },
  {
   "cell_type": "code",
   "execution_count": 11,
   "metadata": {},
   "outputs": [],
   "source": [
    "customer_engagement_agent = ConversableAgent(\n",
    "    name=\"CustomerEngagementAgent\",\n",
    "    system_message='''You are a helpful customer service agent\n",
    "    here to provide fun for the customer based on the user's\n",
    "    personal information and topic preferences.\n",
    "    This could include fun facts, jokes, or interesting stories.\n",
    "    Make sure to make it engaging and fun!\n",
    "    Return 'TERMINATE' when you are done.''',\n",
    "    llm_config=llm_config,\n",
    "    code_execution_config=False,\n",
    "    human_input_mode=\"NEVER\",\n",
    "    is_termination_msg=lambda msg: \"terminate\" in msg.get(\"content\").lower(),\n",
    ")"
   ]
  },
  {
   "cell_type": "code",
   "execution_count": 12,
   "metadata": {},
   "outputs": [],
   "source": [
    "customer_proxy_agent = ConversableAgent(\n",
    "    name=\"customerproxyagent\",\n",
    "    llm_config=False,\n",
    "    code_execution_config=False,\n",
    "    human_input_mode=\"ALWAYS\",\n",
    "    is_termination_msg=lambda msg: \"terminate\" in msg.get(\"content\").lower(),\n",
    ")"
   ]
  },
  {
   "cell_type": "markdown",
   "metadata": {},
   "source": [
    "## Creating tasks\n",
    "\n",
    "Now, you can craft a series of tasks to facilitate the onboarding process."
   ]
  },
  {
   "cell_type": "code",
   "execution_count": 13,
   "metadata": {},
   "outputs": [],
   "source": [
    "chats = [\n",
    "    {\n",
    "        \"sender\": onboarding_personal_information_agent,\n",
    "        \"recipient\": customer_proxy_agent,\n",
    "        \"message\": \n",
    "            \"Hello, I'm here to help you get started with our product.\"\n",
    "            \"Could you tell me your name and location?\",\n",
    "        \"summary_method\": \"reflection_with_llm\",\n",
    "        \"summary_args\": {\n",
    "            \"summary_prompt\" : \"Return the customer information \"\n",
    "                             \"into as JSON object only: \"\n",
    "                             \"{'name': '', 'location': ''}\",\n",
    "        },\n",
    "        \"max_turns\": 2,\n",
    "        \"clear_history\" : True\n",
    "    },\n",
    "    {\n",
    "        \"sender\": onboarding_topic_preference_agent,\n",
    "        \"recipient\": customer_proxy_agent,\n",
    "        \"message\": \n",
    "                \"Great! Could you tell me what topics you are \"\n",
    "                \"interested in reading about?\",\n",
    "        \"summary_method\": \"reflection_with_llm\",\n",
    "        \"max_turns\": 1,\n",
    "        \"clear_history\" : False\n",
    "    },\n",
    "    {\n",
    "        \"sender\": customer_proxy_agent,\n",
    "        \"recipient\": customer_engagement_agent,\n",
    "        \"message\": \"Let's find something fun to read.\",\n",
    "        \"max_turns\": 1,\n",
    "        \"summary_method\": \"reflection_with_llm\",\n",
    "    },\n",
    "]"
   ]
  },
  {
   "cell_type": "markdown",
   "metadata": {},
   "source": [
    "## Start the onboarding process"
   ]
  },
  {
   "cell_type": "code",
   "execution_count": 14,
   "metadata": {},
   "outputs": [
    {
     "name": "stdout",
     "output_type": "stream",
     "text": [
      "\u001b[34m\n",
      "********************************************************************************\u001b[0m\n",
      "\u001b[34mStarting a new chat....\u001b[0m\n",
      "\u001b[34m\n",
      "********************************************************************************\u001b[0m\n",
      "\u001b[33mOnboardingPersonalInformationAgent\u001b[0m (to customerproxyagent):\n",
      "\n",
      "Hello, I'm here to help you get started with our product.Could you tell me your name and location?\n",
      "\n",
      "--------------------------------------------------------------------------------\n",
      "\u001b[33mcustomerproxyagent\u001b[0m (to OnboardingPersonalInformationAgent):\n",
      "\n",
      "Faiz\n",
      "\n",
      "--------------------------------------------------------------------------------\n",
      "\u001b[33mOnboardingPersonalInformationAgent\u001b[0m (to customerproxyagent):\n",
      "\n",
      "Great to meet you, Faiz! Could you please share your location?\n",
      "\n",
      "--------------------------------------------------------------------------------\n",
      "\u001b[33mcustomerproxyagent\u001b[0m (to OnboardingPersonalInformationAgent):\n",
      "\n",
      "Lahore\n",
      "\n",
      "--------------------------------------------------------------------------------\n",
      "\u001b[34m\n",
      "********************************************************************************\u001b[0m\n",
      "\u001b[34mStarting a new chat....\u001b[0m\n",
      "\u001b[34m\n",
      "********************************************************************************\u001b[0m\n",
      "\u001b[33mOnboardingTopicpreferenceAgent\u001b[0m (to customerproxyagent):\n",
      "\n",
      "Great! Could you tell me what topics you are interested in reading about?\n",
      "Context: \n",
      "```json\n",
      "{\n",
      "  \"name\": \"Faiz\",\n",
      "  \"location\": \"Lahore\"\n",
      "}\n",
      "```\n",
      "\n",
      "--------------------------------------------------------------------------------\n",
      "\u001b[33mcustomerproxyagent\u001b[0m (to OnboardingTopicpreferenceAgent):\n",
      "\n",
      "Fear to lossing love\n",
      "\n",
      "--------------------------------------------------------------------------------\n",
      "\u001b[34m\n",
      "********************************************************************************\u001b[0m\n",
      "\u001b[34mStarting a new chat....\u001b[0m\n",
      "\u001b[34m\n",
      "********************************************************************************\u001b[0m\n",
      "\u001b[33mcustomerproxyagent\u001b[0m (to CustomerEngagementAgent):\n",
      "\n",
      "Let's find something fun to read.\n",
      "Context: \n",
      "```json\n",
      "{\n",
      "  \"name\": \"Faiz\",\n",
      "  \"location\": \"Lahore\"\n",
      "}\n",
      "```\n",
      "Faiz, from Lahore, is interested in reading about the topic of fear of losing love.\n",
      "\n",
      "--------------------------------------------------------------------------------\n",
      "\u001b[33mCustomerEngagementAgent\u001b[0m (to customerproxyagent):\n",
      "\n",
      "Hey Faiz! 🌟 Since you're interested in the theme of fear of losing love, how about diving into a fun mix of facts and stories to lighten up that topic. Here we go!\n",
      "\n",
      "### Fun Fact:\n",
      "Did you know that many psychologists believe that our fear of losing love stems from our primal instincts? In the wild, being part of a tribe or group was essential for survival. Losing a bond could mean losing protection and companionship. Hence, our brain plays tricks on us, often amplifying the fear of loneliness!\n",
      "\n",
      "### A Short Story:\n",
      "Once upon a time in Lahore, there lived a poet named Asher who was madly in love with a beautiful artist named Zara. Asher often feared that one day, Zara would find someone more talented or handsome. This fear turned into a poem, \"My Love, My Dread,\" where he humorously encapsulated his fears by comparing himself to a pigeon, clumsily trying to dance with a beautiful peacock! \n",
      "\n",
      "Instead of keeping his fears to himself, Asher read the poem to Zara, who burst into laughter. She was so flattered and delighted that she painted a portrait of Asher as a goofy yet charming pigeon dancing beside a peacock. They both learned that sharing fears can lead to laughter and strengthen love instead of letting insecurities create distance.\n",
      "\n",
      "### A Light-hearted Joke:\n",
      "Why did the scarecrow break up with his girlfriend?  \n",
      "Because he was outstanding in his field but afraid she'd find someone more \"a-maize-ing\"! 🌽😂\n",
      "\n",
      "So, remember Faiz, while fear of losing love can feel daunting, sometimes embracing the humor in our feelings can bring us closer to those we love! If you want more stories or need a good laugh, I'm here for you! \n",
      "\n",
      "TERMINATE\n",
      "\n",
      "--------------------------------------------------------------------------------\n"
     ]
    }
   ],
   "source": [
    "from autogen import initiate_chats\n",
    "\n",
    "chat_results = initiate_chats(chats)"
   ]
  },
  {
   "cell_type": "code",
   "execution_count": 15,
   "metadata": {},
   "outputs": [
    {
     "name": "stdout",
     "output_type": "stream",
     "text": [
      "```json\n",
      "{\n",
      "  \"name\": \"Faiz\",\n",
      "  \"location\": \"Lahore\"\n",
      "}\n",
      "```\n",
      "\n",
      "\n",
      "Faiz, from Lahore, is interested in reading about the topic of fear of losing love.\n",
      "\n",
      "\n",
      "Faiz is interested in reading about the fear of losing love. The conversation provided a fun fact about the psychological origins of this fear, a short story illustrating how sharing insecurities can strengthen relationships, and a light-hearted joke to bring humor to the topic. The overall takeaway emphasizes that embracing humor and open communication can help alleviate fears and foster love.\n",
      "\n",
      "\n"
     ]
    }
   ],
   "source": [
    "for chat_result in chat_results:\n",
    "    print(chat_result.summary)\n",
    "    print(\"\\n\")"
   ]
  },
  {
   "cell_type": "code",
   "execution_count": 18,
   "metadata": {},
   "outputs": [
    {
     "name": "stdout",
     "output_type": "stream",
     "text": [
      "{'usage_including_cached_inference': {'total_cost': 5.5499999999999994e-05, 'gpt-4o-mini-2024-07-18': {'cost': 5.5499999999999994e-05, 'prompt_tokens': 210, 'completion_tokens': 40, 'total_tokens': 250}}, 'usage_excluding_cached_inference': {'total_cost': 5.5499999999999994e-05, 'gpt-4o-mini-2024-07-18': {'cost': 5.5499999999999994e-05, 'prompt_tokens': 210, 'completion_tokens': 40, 'total_tokens': 250}}}\n",
      "\n",
      "\n",
      "{'usage_including_cached_inference': {'total_cost': 2.5199999999999996e-05, 'gpt-4o-mini-2024-07-18': {'cost': 2.5199999999999996e-05, 'prompt_tokens': 88, 'completion_tokens': 20, 'total_tokens': 108}}, 'usage_excluding_cached_inference': {'total_cost': 2.5199999999999996e-05, 'gpt-4o-mini-2024-07-18': {'cost': 2.5199999999999996e-05, 'prompt_tokens': 88, 'completion_tokens': 20, 'total_tokens': 108}}}\n",
      "\n",
      "\n",
      "{'usage_including_cached_inference': {'total_cost': 0.0003447, 'gpt-4o-mini-2024-07-18': {'cost': 0.0003447, 'prompt_tokens': 582, 'completion_tokens': 429, 'total_tokens': 1011}}, 'usage_excluding_cached_inference': {'total_cost': 0.0003447, 'gpt-4o-mini-2024-07-18': {'cost': 0.0003447, 'prompt_tokens': 582, 'completion_tokens': 429, 'total_tokens': 1011}}}\n",
      "\n",
      "\n"
     ]
    }
   ],
   "source": [
    "for chat_result in chat_results:\n",
    "    print(chat_result.cost)\n",
    "    print(\"\\n\")"
   ]
  },
  {
   "cell_type": "code",
   "execution_count": 17,
   "metadata": {},
   "outputs": [
    {
     "name": "stdout",
     "output_type": "stream",
     "text": [
      "[{'content': \"Hello, I'm here to help you get started with our product.Could you tell me your name and location?\", 'role': 'assistant', 'name': 'OnboardingPersonalInformationAgent'}, {'content': 'Faiz', 'role': 'user', 'name': 'customerproxyagent'}, {'content': 'Great to meet you, Faiz! Could you please share your location?', 'role': 'assistant', 'name': 'OnboardingPersonalInformationAgent'}, {'content': 'Lahore', 'role': 'user', 'name': 'customerproxyagent'}]\n",
      "\n",
      "\n",
      "[{'content': 'Great! Could you tell me what topics you are interested in reading about?\\nContext: \\n```json\\n{\\n  \"name\": \"Faiz\",\\n  \"location\": \"Lahore\"\\n}\\n```', 'role': 'assistant', 'name': 'OnboardingTopicpreferenceAgent'}, {'content': 'Fear to lossing love', 'role': 'user', 'name': 'customerproxyagent'}]\n",
      "\n",
      "\n",
      "[{'content': 'Let\\'s find something fun to read.\\nContext: \\n```json\\n{\\n  \"name\": \"Faiz\",\\n  \"location\": \"Lahore\"\\n}\\n```\\nFaiz, from Lahore, is interested in reading about the topic of fear of losing love.', 'role': 'assistant', 'name': 'customerproxyagent'}, {'content': 'Hey Faiz! 🌟 Since you\\'re interested in the theme of fear of losing love, how about diving into a fun mix of facts and stories to lighten up that topic. Here we go!\\n\\n### Fun Fact:\\nDid you know that many psychologists believe that our fear of losing love stems from our primal instincts? In the wild, being part of a tribe or group was essential for survival. Losing a bond could mean losing protection and companionship. Hence, our brain plays tricks on us, often amplifying the fear of loneliness!\\n\\n### A Short Story:\\nOnce upon a time in Lahore, there lived a poet named Asher who was madly in love with a beautiful artist named Zara. Asher often feared that one day, Zara would find someone more talented or handsome. This fear turned into a poem, \"My Love, My Dread,\" where he humorously encapsulated his fears by comparing himself to a pigeon, clumsily trying to dance with a beautiful peacock! \\n\\nInstead of keeping his fears to himself, Asher read the poem to Zara, who burst into laughter. She was so flattered and delighted that she painted a portrait of Asher as a goofy yet charming pigeon dancing beside a peacock. They both learned that sharing fears can lead to laughter and strengthen love instead of letting insecurities create distance.\\n\\n### A Light-hearted Joke:\\nWhy did the scarecrow break up with his girlfriend?  \\nBecause he was outstanding in his field but afraid she\\'d find someone more \"a-maize-ing\"! 🌽😂\\n\\nSo, remember Faiz, while fear of losing love can feel daunting, sometimes embracing the humor in our feelings can bring us closer to those we love! If you want more stories or need a good laugh, I\\'m here for you! \\n\\nTERMINATE', 'role': 'user', 'name': 'CustomerEngagementAgent'}]\n",
      "\n",
      "\n"
     ]
    }
   ],
   "source": [
    "for chat_result in chat_results:\n",
    "    print(chat_result.chat_history)\n",
    "    print(\"\\n\")"
   ]
  }
 ],
 "metadata": {
  "kernelspec": {
   "display_name": "base",
   "language": "python",
   "name": "python3"
  },
  "language_info": {
   "codemirror_mode": {
    "name": "ipython",
    "version": 3
   },
   "file_extension": ".py",
   "mimetype": "text/x-python",
   "name": "python",
   "nbconvert_exporter": "python",
   "pygments_lexer": "ipython3",
   "version": "3.12.7"
  }
 },
 "nbformat": 4,
 "nbformat_minor": 4
}
